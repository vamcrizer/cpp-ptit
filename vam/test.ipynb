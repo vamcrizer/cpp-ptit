{
 "cells": [
  {
   "cell_type": "code",
   "execution_count": 12,
   "metadata": {},
   "outputs": [
    {
     "name": "stdout",
     "output_type": "stream",
     "text": [
      "YES 8778\n"
     ]
    }
   ],
   "source": [
    "from itertools import permutations\n",
    "\n",
    "def all_permutations(s):\n",
    "    return [''.join(p) for p in permutations(s)] #Sinh ra tất cả các hoán vị của chuỗi rồi đặt trong 1 List tên p\n",
    "\n",
    "def palindrome(s): #Hàm kiểm tra đối xứng\n",
    "    l = 0 \n",
    "    r = len(s) - 1\n",
    "    while(l < r):\n",
    "        if (s[l] != s[r]):\n",
    "            return False\n",
    "        l+=1\n",
    "        r-=1\n",
    "    return True\n",
    "\n",
    "def TimMax(s):\n",
    "    ok = 0\n",
    "    max = -2e9\n",
    "    for perm in all_permutations(s): #Lặp qua tất cả hoán vị của string s thu vào\n",
    "        if(palindrome(perm)): #Nếu hoán vị hiện tại là 1 chuỗi đối xứng\n",
    "            ok = 1 #Đánh dấu là tồn tại có 1 chuỗi thỏa mãn điều này\n",
    "            if int(perm) > max: #Kiểm tra nếu chuỗi lớn hơn max\n",
    "                max = int(perm)\n",
    "    return max, ok\n",
    "\n",
    "t = int(input())\n",
    "for i in range (0, t):\n",
    "    s = input()\n",
    "    max, ok = TimMax(s)  # Gán giá trị trả về của hàm TimMax vào biến max và ok\n",
    "    if ok == 1:\n",
    "        print(\"YES\", max)  # In ra max\n",
    "    else:\n",
    "        print(\"NO\")\n",
    "    print(\"\\n\")\n"
   ]
  },
  {
   "cell_type": "code",
   "execution_count": null,
   "metadata": {},
   "outputs": [],
   "source": []
  }
 ],
 "metadata": {
  "kernelspec": {
   "display_name": "Python 3",
   "language": "python",
   "name": "python3"
  },
  "language_info": {
   "codemirror_mode": {
    "name": "ipython",
    "version": 3
   },
   "file_extension": ".py",
   "mimetype": "text/x-python",
   "name": "python",
   "nbconvert_exporter": "python",
   "pygments_lexer": "ipython3",
   "version": "3.12.0"
  }
 },
 "nbformat": 4,
 "nbformat_minor": 2
}
